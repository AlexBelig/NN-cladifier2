{
 "cells": [
  {
   "cell_type": "code",
   "execution_count": 177,
   "metadata": {},
   "outputs": [],
   "source": [
    "import torch\n",
    "import random\n",
    "import numpy as np\n",
    "from sklearn.model_selection import train_test_split\n",
    "from sklearn.datasets import load_wine"
   ]
  },
  {
   "cell_type": "markdown",
   "metadata": {},
   "source": [
    "# Загрузим датасет с параметрами вин и разделим его на тренировочную и тестовую выборки "
   ]
  },
  {
   "cell_type": "code",
   "execution_count": 297,
   "metadata": {},
   "outputs": [],
   "source": [
    "wine = load_wine()\n",
    "features = 2\n",
    "\n",
    "X_train, X_test, y_train, y_test = train_test_split(\n",
    "    wine.data[:, :features], \n",
    "    wine.target, \n",
    "    test_size=0.3, \n",
    "    shuffle=True)\n",
    "\n",
    "X_train = torch.FloatTensor(X_train)\n",
    "X_test = torch.FloatTensor(X_test)\n",
    "y_train = torch.LongTensor(y_train)\n",
    "y_test = torch.LongTensor(y_test)"
   ]
  },
  {
   "cell_type": "code",
   "execution_count": 245,
   "metadata": {},
   "outputs": [
    {
     "data": {
      "text/plain": [
       "['alcohol',\n",
       " 'malic_acid',\n",
       " 'ash',\n",
       " 'alcalinity_of_ash',\n",
       " 'magnesium',\n",
       " 'total_phenols',\n",
       " 'flavanoids',\n",
       " 'nonflavanoid_phenols',\n",
       " 'proanthocyanins',\n",
       " 'color_intensity',\n",
       " 'hue',\n",
       " 'od280/od315_of_diluted_wines',\n",
       " 'proline']"
      ]
     },
     "execution_count": 245,
     "metadata": {},
     "output_type": "execute_result"
    }
   ],
   "source": [
    "wine.feature_names"
   ]
  },
  {
   "cell_type": "markdown",
   "metadata": {},
   "source": [
    "# Построим искусственную нейронную сеть"
   ]
  },
  {
   "cell_type": "code",
   "execution_count": 298,
   "metadata": {},
   "outputs": [],
   "source": [
    "class WineNet(torch.nn.Module):\n",
    "    def __init__(self, n_input, n_hidden_neurons):\n",
    "        super(WineNet, self).__init__()\n",
    "        self.fc1 = torch.nn.Linear(n_input, n_hidden_neurons)\n",
    "        self.activ1 = torch.nn.ReLU()\n",
    "        #self.fc2 = torch.nn.Linear(n_hidden_neurons, n_hidden_neurons)\n",
    "        #self.activ2 = torch.nn.Relu()\n",
    "        self.fc3 = torch.nn.Linear(n_hidden_neurons, 3)\n",
    "        self.sm = torch.nn.Softmax(dim=1)\n",
    "        \n",
    "    def forward(self, x):\n",
    "        x = self.fc1(x)\n",
    "        x = self.activ1(x)\n",
    "        #x = self.fc2(x)\n",
    "        #x = self.activ2(x)\n",
    "        x = self.fc3(x)\n",
    "        return x\n",
    "\n",
    "    def inference(self, x):\n",
    "        x = self.forward(x)\n",
    "        x = self.sm(x)\n",
    "        return x\n",
    "\n",
    "n_hidden =  15\n",
    "wine_net = WineNet(features, n_hidden)"
   ]
  },
  {
   "cell_type": "markdown",
   "metadata": {},
   "source": [
    "# Функция потерь и оптимизатор"
   ]
  },
  {
   "cell_type": "code",
   "execution_count": 308,
   "metadata": {},
   "outputs": [],
   "source": [
    "loss = torch.nn.CrossEntropyLoss()\n",
    "optimizer = torch.optim.Adam(wine_net.parameters(), lr=1.0e-3)"
   ]
  },
  {
   "cell_type": "markdown",
   "metadata": {},
   "source": [
    "# Обучим искусственную нейронную сеть"
   ]
  },
  {
   "cell_type": "code",
   "execution_count": 309,
   "metadata": {},
   "outputs": [
    {
     "name": "stdout",
     "output_type": "stream",
     "text": [
      "tensor(0.6481)\n",
      "tensor(0.6111)\n",
      "tensor(0.6667)\n",
      "tensor(0.6667)\n",
      "tensor(0.7037)\n",
      "tensor(0.6852)\n",
      "tensor(0.7037)\n",
      "tensor(0.7037)\n",
      "tensor(0.6852)\n",
      "tensor(0.7037)\n"
     ]
    }
   ],
   "source": [
    "batch_size = 10\n",
    "for epoch in range(1000):\n",
    "    order = np.random.permutation(len(X_train))\n",
    "    for start_index in range(0, len(X_train), batch_size):\n",
    "        optimizer.zero_grad()\n",
    "        \n",
    "        batch_indexes = order[start_index:start_index+batch_size]\n",
    "        \n",
    "        x_batch = X_train[batch_indexes]\n",
    "        y_batch = y_train[batch_indexes]\n",
    "        \n",
    "        preds = wine_net.forward(x_batch) \n",
    "        \n",
    "        loss_value = loss(preds, y_batch)\n",
    "        loss_value.backward()\n",
    "        \n",
    "        optimizer.step()\n",
    "        \n",
    "    if epoch % 100 == 0:\n",
    "        test_preds = wine_net.forward(X_test)\n",
    "        test_preds = test_preds.argmax(dim=1)\n",
    "        print((test_preds == y_test).float().mean())\n",
    "#test_preds = wine_net.inference(X_test)"
   ]
  },
  {
   "cell_type": "code",
   "execution_count": 310,
   "metadata": {},
   "outputs": [],
   "source": [
    "def loss(pred, target):\n",
    "    squares = (pred - target) ** 2\n",
    "    return squares.mean()"
   ]
  },
  {
   "cell_type": "code",
   "execution_count": 311,
   "metadata": {},
   "outputs": [],
   "source": [
    "data_train1 = wine_net.inference(X_train).argmax(dim=1)\n",
    "data_train2 = wine_net.inference(X_train)"
   ]
  },
  {
   "cell_type": "code",
   "execution_count": 312,
   "metadata": {},
   "outputs": [],
   "source": [
    "data_test1 = wine_net.inference(X_test).argmax(dim=1)\n",
    "data_test2 = wine_net.inference(X_test)"
   ]
  },
  {
   "cell_type": "code",
   "execution_count": 314,
   "metadata": {},
   "outputs": [
    {
     "data": {
      "text/plain": [
       "tensor(4.)"
      ]
     },
     "execution_count": 314,
     "metadata": {},
     "output_type": "execute_result"
    }
   ],
   "source": [
    "loss(torch.FloatTensor([1,2]), torch.FloatTensor([3,4]))"
   ]
  },
  {
   "cell_type": "code",
   "execution_count": 315,
   "metadata": {},
   "outputs": [],
   "source": [
    "class WineNet(torch.nn.Module):\n",
    "    def __init__(self, n_input, n_hidden_neurons):\n",
    "        super(WineNet, self).__init__()\n",
    "        self.fc1 = torch.nn.Linear(n_input, n_hidden_neurons)\n",
    "        self.activ1 = torch.nn.ReLU()\n",
    "        #self.fc2 = torch.nn.Linear(n_hidden_neurons, n_hidden_neurons)\n",
    "        #self.activ2 = torch.nn.Relu()\n",
    "        self.fc3 = torch.nn.Linear(n_hidden_neurons, 3)\n",
    "        self.sm = torch.nn.Softmax(dim=1)\n",
    "        \n",
    "    def forward(self, x):\n",
    "        x = self.fc1(x)\n",
    "        x = self.activ1(x)\n",
    "        #x = self.fc2(x)\n",
    "        #x = self.activ2(x)\n",
    "        x = self.fc3(x)\n",
    "        x = self.sm(x)\n",
    "        return x\n",
    "\n",
    "    def inference(self, x):\n",
    "        x = self.forward(x)\n",
    "        #x = self.sm(x)\n",
    "        return x\n",
    "\n",
    "n_hidden =  15\n",
    "wine_net = WineNet(features, n_hidden)"
   ]
  },
  {
   "cell_type": "code",
   "execution_count": 322,
   "metadata": {},
   "outputs": [
    {
     "name": "stdout",
     "output_type": "stream",
     "text": [
      "tensor(0.2560, grad_fn=<MeanBackward0>)\n"
     ]
    },
    {
     "ename": "RuntimeError",
     "evalue": "Trying to backward through the graph a second time, but the saved intermediate results have already been freed. Specify retain_graph=True when calling backward the first time.",
     "output_type": "error",
     "traceback": [
      "\u001b[1;31m---------------------------------------------------------------------------\u001b[0m",
      "\u001b[1;31mRuntimeError\u001b[0m                              Traceback (most recent call last)",
      "\u001b[1;32m<ipython-input-322-0bd2ef39ca92>\u001b[0m in \u001b[0;36m<module>\u001b[1;34m\u001b[0m\n\u001b[0;32m     15\u001b[0m         \u001b[0mloss_value\u001b[0m \u001b[1;33m=\u001b[0m \u001b[0mloss\u001b[0m\u001b[1;33m(\u001b[0m\u001b[0mpreds\u001b[0m\u001b[1;33m,\u001b[0m \u001b[0my_batch\u001b[0m\u001b[1;33m)\u001b[0m\u001b[1;33m\u001b[0m\u001b[1;33m\u001b[0m\u001b[0m\n\u001b[0;32m     16\u001b[0m         \u001b[0mprint\u001b[0m\u001b[1;33m(\u001b[0m\u001b[0mloss_value\u001b[0m\u001b[1;33m)\u001b[0m\u001b[1;33m\u001b[0m\u001b[1;33m\u001b[0m\u001b[0m\n\u001b[1;32m---> 17\u001b[1;33m         \u001b[0mloss_value\u001b[0m\u001b[1;33m.\u001b[0m\u001b[0mbackward\u001b[0m\u001b[1;33m(\u001b[0m\u001b[1;33m)\u001b[0m\u001b[1;33m\u001b[0m\u001b[1;33m\u001b[0m\u001b[0m\n\u001b[0m\u001b[0;32m     18\u001b[0m         \u001b[0moptimizer\u001b[0m\u001b[1;33m.\u001b[0m\u001b[0mstep\u001b[0m\u001b[1;33m(\u001b[0m\u001b[1;33m)\u001b[0m\u001b[1;33m\u001b[0m\u001b[1;33m\u001b[0m\u001b[0m\n\u001b[0;32m     19\u001b[0m \u001b[1;33m\u001b[0m\u001b[0m\n",
      "\u001b[1;32m~\\anaconda3\\lib\\site-packages\\torch\\tensor.py\u001b[0m in \u001b[0;36mbackward\u001b[1;34m(self, gradient, retain_graph, create_graph)\u001b[0m\n\u001b[0;32m    219\u001b[0m                 \u001b[0mretain_graph\u001b[0m\u001b[1;33m=\u001b[0m\u001b[0mretain_graph\u001b[0m\u001b[1;33m,\u001b[0m\u001b[1;33m\u001b[0m\u001b[1;33m\u001b[0m\u001b[0m\n\u001b[0;32m    220\u001b[0m                 create_graph=create_graph)\n\u001b[1;32m--> 221\u001b[1;33m         \u001b[0mtorch\u001b[0m\u001b[1;33m.\u001b[0m\u001b[0mautograd\u001b[0m\u001b[1;33m.\u001b[0m\u001b[0mbackward\u001b[0m\u001b[1;33m(\u001b[0m\u001b[0mself\u001b[0m\u001b[1;33m,\u001b[0m \u001b[0mgradient\u001b[0m\u001b[1;33m,\u001b[0m \u001b[0mretain_graph\u001b[0m\u001b[1;33m,\u001b[0m \u001b[0mcreate_graph\u001b[0m\u001b[1;33m)\u001b[0m\u001b[1;33m\u001b[0m\u001b[1;33m\u001b[0m\u001b[0m\n\u001b[0m\u001b[0;32m    222\u001b[0m \u001b[1;33m\u001b[0m\u001b[0m\n\u001b[0;32m    223\u001b[0m     \u001b[1;32mdef\u001b[0m \u001b[0mregister_hook\u001b[0m\u001b[1;33m(\u001b[0m\u001b[0mself\u001b[0m\u001b[1;33m,\u001b[0m \u001b[0mhook\u001b[0m\u001b[1;33m)\u001b[0m\u001b[1;33m:\u001b[0m\u001b[1;33m\u001b[0m\u001b[1;33m\u001b[0m\u001b[0m\n",
      "\u001b[1;32m~\\anaconda3\\lib\\site-packages\\torch\\autograd\\__init__.py\u001b[0m in \u001b[0;36mbackward\u001b[1;34m(tensors, grad_tensors, retain_graph, create_graph, grad_variables)\u001b[0m\n\u001b[0;32m    128\u001b[0m         \u001b[0mretain_graph\u001b[0m \u001b[1;33m=\u001b[0m \u001b[0mcreate_graph\u001b[0m\u001b[1;33m\u001b[0m\u001b[1;33m\u001b[0m\u001b[0m\n\u001b[0;32m    129\u001b[0m \u001b[1;33m\u001b[0m\u001b[0m\n\u001b[1;32m--> 130\u001b[1;33m     Variable._execution_engine.run_backward(\n\u001b[0m\u001b[0;32m    131\u001b[0m         \u001b[0mtensors\u001b[0m\u001b[1;33m,\u001b[0m \u001b[0mgrad_tensors_\u001b[0m\u001b[1;33m,\u001b[0m \u001b[0mretain_graph\u001b[0m\u001b[1;33m,\u001b[0m \u001b[0mcreate_graph\u001b[0m\u001b[1;33m,\u001b[0m\u001b[1;33m\u001b[0m\u001b[1;33m\u001b[0m\u001b[0m\n\u001b[0;32m    132\u001b[0m         allow_unreachable=True)  # allow_unreachable flag\n",
      "\u001b[1;31mRuntimeError\u001b[0m: Trying to backward through the graph a second time, but the saved intermediate results have already been freed. Specify retain_graph=True when calling backward the first time."
     ]
    }
   ],
   "source": [
    "batch_size = 20\n",
    "wine_net.train()\n",
    "for epoch in range(1000):\n",
    "    order = np.random.permutation(len(X_train))\n",
    "    for start_index in range(0, len(X_train), batch_size):\n",
    "        optimizer.zero_grad()\n",
    "        \n",
    "        batch_indexes = order[start_index:start_index+batch_size]\n",
    "        \n",
    "        x_batch = X_train[batch_indexes]\n",
    "        y_batch = data_train2[batch_indexes]\n",
    "        \n",
    "        preds = wine_net.forward(x_batch) \n",
    "        \n",
    "        loss_value = loss(preds, y_batch)\n",
    "        print(loss_value)\n",
    "        loss_value.backward()\n",
    "        optimizer.step()\n",
    "        \n",
    "    if epoch % 100 == 0:\n",
    "        test_preds = wine_net.forward(X_test)\n",
    "        test_preds = test_preds.argmax(dim=1)\n",
    "        print((test_preds == data_test2).float().mean())\n",
    "#test_preds = wine_net.inference(X_test)"
   ]
  },
  {
   "cell_type": "code",
   "execution_count": 168,
   "metadata": {},
   "outputs": [],
   "source": [
    "wine_net.fc2.weight;"
   ]
  },
  {
   "cell_type": "markdown",
   "metadata": {},
   "source": [
    "# Посчитаем точность"
   ]
  },
  {
   "cell_type": "code",
   "execution_count": 169,
   "metadata": {},
   "outputs": [
    {
     "data": {
      "text/plain": [
       "array(0.8518519, dtype=float32)"
      ]
     },
     "execution_count": 169,
     "metadata": {},
     "output_type": "execute_result"
    }
   ],
   "source": [
    "accuracy = np.asarray((test_preds.argmax(dim=1) == y_test).float().mean())\n",
    "accuracy"
   ]
  },
  {
   "cell_type": "markdown",
   "metadata": {},
   "source": [
    "# Изобразим (только в случае 2х признаков) получившиеся оценки вин\n",
    "Области - предсказания ИНС, точки - истинные метки"
   ]
  },
  {
   "cell_type": "code",
   "execution_count": 170,
   "metadata": {},
   "outputs": [
    {
     "data": {
      "image/png": "[encoded data removed]",
      "text/plain": [
       "<Figure size 720x576 with 1 Axes>"
      ]
     },
     "metadata": {
      "needs_background": "light"
     },
     "output_type": "display_data"
    }
   ],
   "source": [
    "import matplotlib.pyplot as plt\n",
    "%matplotlib inline\n",
    "\n",
    "plt.rcParams['figure.figsize'] = (10, 8)\n",
    "\n",
    "n_classes = 3\n",
    "plot_colors = ['g', 'orange', 'black']\n",
    "plot_step = 0.02\n",
    "\n",
    "x_min, x_max = X_test[:, 0].min() - 1, X_test[:, 0].max() + 1\n",
    "y_min, y_max = X_test[:, 1].min() - 1, X_test[:, 1].max() + 1\n",
    "\n",
    "xx, yy =  torch.meshgrid(torch.arange(x_min, x_max, plot_step),\n",
    "                         torch.arange(y_min, y_max, plot_step))\n",
    "\n",
    "preds = wine_net.inference(\n",
    "    torch.cat([xx.reshape(-1, 1), yy.reshape(-1, 1)], dim=1))\n",
    "\n",
    "preds_class = preds.data.numpy().argmax(axis=1)\n",
    "preds_class = preds_class.reshape(xx.shape)\n",
    "plt.contourf(xx, yy, preds_class, cmap='Accent')\n",
    "\n",
    "for i, color in zip(range(n_classes), plot_colors):\n",
    "    indexes = np.where(y_test == i)\n",
    "    plt.scatter(X_test[indexes, 0], \n",
    "                X_test[indexes, 1], \n",
    "                c=color, \n",
    "                label=wine.target_names[i],\n",
    "                cmap='Accent')\n",
    "    plt.xlabel(wine.feature_names[0])\n",
    "    plt.ylabel(wine.feature_names[1])\n",
    "    plt.legend()"
   ]
  },
  {
   "cell_type": "markdown",
   "metadata": {},
   "source": [
    "# Вероятность принадлежности точки к одному из трёх классов:"
   ]
  },
  {
   "cell_type": "code",
   "execution_count": 179,
   "metadata": {},
   "outputs": [
    {
     "name": "stdout",
     "output_type": "stream",
     "text": [
      "tensor([0.9094, 0.0019, 0.0887], grad_fn=<SelectBackward>) \n",
      "Точка принадлежит к 0 классу. Апорстериорная вероятность, предсказанная ИНС: 0.9094228148460388\n"
     ]
    }
   ],
   "source": [
    "print(test_preds[0], '\\nТочка принадлежит к {0} классу. Апорстериорная вероятность, предсказанная ИНС: {1}'.format(test_preds.data.numpy().argmax(axis=1)[0], test_preds.data.numpy().max(axis=1)[0], 4))"
   ]
  },
  {
   "cell_type": "code",
   "execution_count": 180,
   "metadata": {},
   "outputs": [
    {
     "data": {
      "text/plain": [
       "tensor(0)"
      ]
     },
     "execution_count": 180,
     "metadata": {},
     "output_type": "execute_result"
    }
   ],
   "source": [
    "y_test[0]"
   ]
  },
  {
   "cell_type": "code",
   "execution_count": 58,
   "metadata": {},
   "outputs": [
    {
     "name": "stdout",
     "output_type": "stream",
     "text": [
      "accruracy: 0.8703703703703703\n"
     ]
    }
   ],
   "source": [
    "#Байесовский классификатор\n",
    "from sklearn import datasets\n",
    "from sklearn.metrics import f1_score, accuracy_score\n",
    "from sklearn.naive_bayes import GaussianNB\n",
    "#iris = datasets.load_iris()\n",
    "gnb = GaussianNB()\n",
    "pred = gnb.fit(X_test, y_test).predict(X_test)\n",
    "preds2 = gnb.fit(X_test, y_test).predict_proba(X_test)\n",
    "accuracy = accuracy_score(y_test, pred)\n",
    "print(\"accruracy:\", accuracy)"
   ]
  },
  {
   "cell_type": "code",
   "execution_count": 172,
   "metadata": {},
   "outputs": [
    {
     "data": {
      "text/plain": [
       "array([0.96649497, 0.00597376, 0.02753126])"
      ]
     },
     "execution_count": 172,
     "metadata": {},
     "output_type": "execute_result"
    }
   ],
   "source": [
    "preds2[0]"
   ]
  },
  {
   "cell_type": "code",
   "execution_count": 174,
   "metadata": {},
   "outputs": [
    {
     "name": "stdout",
     "output_type": "stream",
     "text": [
      "Число различий байесовского метода и нейронной сети: 34\n"
     ]
    }
   ],
   "source": [
    "pred = torch.LongTensor(pred)\n",
    "print('Число различий байесовского метода и нейронной сети:',sum(~(test_preds.argmax(axis=1) == pred).numpy()))"
   ]
  },
  {
   "cell_type": "code",
   "execution_count": 181,
   "metadata": {},
   "outputs": [],
   "source": [
    "y_data = test_preds"
   ]
  },
  {
   "cell_type": "code",
   "execution_count": null,
   "metadata": {},
   "outputs": [],
   "source": []
  },
  {
   "cell_type": "code",
   "execution_count": null,
   "metadata": {},
   "outputs": [],
   "source": []
  },
  {
   "cell_type": "code",
   "execution_count": null,
   "metadata": {},
   "outputs": [],
   "source": []
  },
  {
   "cell_type": "code",
   "execution_count": null,
   "metadata": {},
   "outputs": [],
   "source": []
  }
 ],
 "metadata": {
  "kernelspec": {
   "display_name": "Python 3",
   "language": "python",
   "name": "python3"
  },
  "language_info": {
   "codemirror_mode": {
    "name": "ipython",
    "version": 3
   },
   "file_extension": ".py",
   "mimetype": "text/x-python",
   "name": "python",
   "nbconvert_exporter": "python",
   "pygments_lexer": "ipython3",
   "version": "3.8.3"
  }
 },
 "nbformat": 4,
 "nbformat_minor": 4
}
